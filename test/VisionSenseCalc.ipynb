{
 "cells": [
  {
   "cell_type": "code",
   "execution_count": 1,
   "id": "mineral-potential",
   "metadata": {},
   "outputs": [],
   "source": [
    "import torch \n",
    "from torchvision import transforms\n",
    "import matplotlib.pyplot as plt\n",
    "import cv2\n",
    "from Sensation1 import Sensation\n",
    "from Sensation1.config import config\n",
    "import pickle"
   ]
  },
  {
   "cell_type": "code",
   "execution_count": 2,
   "id": "double-gathering",
   "metadata": {},
   "outputs": [
    {
     "name": "stdout",
     "output_type": "stream",
     "text": [
      "sensation1 : loaded Encoder\n",
      "sensation1 : loaded DeltaT\n",
      "57.85% 17356"
     ]
    }
   ],
   "source": [
    "@torch.no_grad()\n",
    "def calculate_ReadOutLength():\n",
    "    device = 'cuda'\n",
    "    dtype = torch.float16\n",
    "    max_length = 30000\n",
    "    \n",
    "    video = cv2.VideoCapture('CalcReadOutLength.mp4')\n",
    "    if not video.isOpened():\n",
    "        raise Exception('can not open video!')\n",
    "    frames = int(video.get(cv2.CAP_PROP_FRAME_COUNT))\n",
    "    resizer = transforms.Resize(config.frame_size)\n",
    "    \n",
    "    sense = Sensation(device,False)\n",
    "    sense.LoadEncoder()\n",
    "    sense.LoadDeltaTime()\n",
    "    Encoder = sense.encoder\n",
    "    Encoder.eval()\n",
    "    DeltaTime = sense.deltaT\n",
    "    DeltaTime.eval()\n",
    "    ReadOutMem = torch.zeros((max_length,sense.MemorySize),dtype=dtype,device=device)\n",
    "    \n",
    "    current_length = 1\n",
    "    saver = []\n",
    "    \n",
    "    for idx in range(frames):\n",
    "        ret,img = video.read()\n",
    "        data = torch.from_numpy(img).permute(2,1,0).unsqueeze(0).to(device)\n",
    "        data = (resizer(data/255)).type(dtype)\n",
    "        encs = Encoder(data).view(-1)\n",
    "        data = encs.unsqueeze(0).repeat(current_length,1)\n",
    "        distances = DeltaTime(data,ReadOutMem[:current_length]).view(-1)\n",
    "        mins = torch.min(distances)\n",
    "        if mins > 0.0:\n",
    "            ReadOutMem[current_length] = encs\n",
    "            current_length += 1\n",
    "            print('\\r{:5.2f}% {}'.format(current_length/max_length*100,current_length),end='')\n",
    "        saver.append(current_length)\n",
    "        if not(current_length < max_length):\n",
    "            print('\\nmeasure finished')\n",
    "            print(f'{idx} frames')\n",
    "            break\n",
    "        if idx % 1000 == 0:\n",
    "            torch.cuda.empty_cache()\n",
    "    return saver\n",
    "result = calculate_ReadOutLength()\n",
    "with open('ReadOutMemory_result.pkl','wb') as f:\n",
    "    pickle.dump(result,f)\n",
    "with open('ReadOutMemory_result.txt','w') as f:\n",
    "    f.write(','.join([str(i) for i in result]))"
   ]
  },
  {
   "cell_type": "code",
   "execution_count": 5,
   "id": "angry-superior",
   "metadata": {},
   "outputs": [
    {
     "data": {
      "image/png": "[encoded data removed]",
      "text/plain": [
       "<Figure size 432x288 with 1 Axes>"
      ]
     },
     "metadata": {
      "needs_background": "light"
     },
     "output_type": "display_data"
    }
   ],
   "source": [
    "%matplotlib inline\n",
    "plt.plot(result[:])\n",
    "plt.show()"
   ]
  }
 ],
 "metadata": {
  "kernelspec": {
   "display_name": "Python 3",
   "language": "python",
   "name": "python3"
  },
  "language_info": {
   "codemirror_mode": {
    "name": "ipython",
    "version": 3
   },
   "file_extension": ".py",
   "mimetype": "text/x-python",
   "name": "python",
   "nbconvert_exporter": "python",
   "pygments_lexer": "ipython3",
   "version": "3.8.8"
  }
 },
 "nbformat": 4,
 "nbformat_minor": 5
}
