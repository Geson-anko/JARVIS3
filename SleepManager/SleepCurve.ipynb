{
 "cells": [
  {
   "cell_type": "code",
   "execution_count": 1,
   "metadata": {},
   "outputs": [],
   "source": [
    "import numpy as np\n",
    "from config import config\n",
    "from typing import Any\n",
    "\n",
    "class SleepCurve:\n",
    "    def __init__(self) -> None:\n",
    "        _w = config.wake_time\n",
    "        if _w <= config.sleep_time:\n",
    "            _w += config.one_day\n",
    "        sfs_len = _w - config.sleep_time\n",
    "        wfs_len = config.one_day - sfs_len\n",
    "        self.wake_switch = (config.sleep_time + sfs_len/2)%config.one_day\n",
    "        self.sleep_switch = (config.wake_time + wfs_len/2)%config.one_day\n",
    "        \n",
    "        _s = config.sleep_time\n",
    "        if _s <= self.sleep_switch:\n",
    "            _s += config.one_day\n",
    "        _hb = _s - config.before_sleep/2\n",
    "        T,M = np.log(1/config.threshold - 1),np.log(1/config.My - 1)\n",
    "        self.sleep_k = (T - M) / (_s - _hb)\n",
    "        self.sleep_b = T - self.sleep_k * _s\n",
    "\n",
    "        _w = config.wake_time\n",
    "        if _w <= self.wake_switch:\n",
    "            _w += config.one_day\n",
    "        _hb = _w + config.after_wake/2\n",
    "        self.wake_k = (T-M)/(_w - _hb)\n",
    "        self.wake_b = T - self.wake_k * _w\n",
    "\n",
    "    def sleep_sigmoid(self,x:float) -> float:\n",
    "        if self.sleep_switch > x:\n",
    "            x += config.one_day\n",
    "        v = 1/(1 + np.exp(self.sleep_k * x + self.sleep_b))\n",
    "        return v\n",
    "    \n",
    "    def wake_sigmoid(self,x:float) -> float:\n",
    "\n",
    "        if self.wake_switch > x:\n",
    "            x += config.one_day\n",
    "        v = 1 / (1+np.exp(self.wake_k*x+ self.wake_b))\n",
    "        return v\n",
    "    \n",
    "    def function(self,x:float) -> float:\n",
    "        x = x % config.one_day\n",
    "        if x < self.wake_switch or x >= self.sleep_switch:\n",
    "            v = self.sleep_sigmoid(x)\n",
    "        else:\n",
    "            v = self.wake_sigmoid(x)\n",
    "        return v\n",
    "\n",
    "    def __call__(self, *args: Any, **kwds: Any) -> Any:\n",
    "        return self.function(*args,**kwds)"
   ]
  },
  {
   "cell_type": "code",
   "execution_count": 2,
   "metadata": {},
   "outputs": [
    {
     "ename": "ModuleNotFoundError",
     "evalue": "No module named 'matplotlib'",
     "output_type": "error",
     "traceback": [
      "\u001b[1;31m---------------------------------------------------------------------------\u001b[0m",
      "\u001b[1;31mModuleNotFoundError\u001b[0m                       Traceback (most recent call last)",
      "\u001b[1;32m<ipython-input-2-def718518aa8>\u001b[0m in \u001b[0;36m<module>\u001b[1;34m\u001b[0m\n\u001b[1;32m----> 1\u001b[1;33m \u001b[1;32mimport\u001b[0m \u001b[0mmatplotlib\u001b[0m\u001b[1;33m.\u001b[0m\u001b[0mpyplot\u001b[0m \u001b[1;32mas\u001b[0m \u001b[0mplt\u001b[0m\u001b[1;33m\u001b[0m\u001b[1;33m\u001b[0m\u001b[0m\n\u001b[0m\u001b[0;32m      2\u001b[0m \u001b[0mSC\u001b[0m \u001b[1;33m=\u001b[0m \u001b[0mSleepCurve\u001b[0m\u001b[1;33m(\u001b[0m\u001b[1;33m)\u001b[0m\u001b[1;33m\u001b[0m\u001b[1;33m\u001b[0m\u001b[0m\n",
      "\u001b[1;31mModuleNotFoundError\u001b[0m: No module named 'matplotlib'"
     ]
    }
   ],
   "source": [
    "import matplotlib.pyplot as plt\n",
    "SC = SleepCurve()"
   ]
  },
  {
   "cell_type": "code",
   "execution_count": 4,
   "metadata": {},
   "outputs": [
    {
     "data": {
      "image/png": "[encoded data removed]",
      "text/plain": [
       "<Figure size 720x72 with 1 Axes>"
      ]
     },
     "metadata": {
      "needs_background": "light"
     },
     "output_type": "display_data"
    }
   ],
   "source": [
    "%matplotlib inline\n",
    "plt.figure(figsize=(10,1))\n",
    "g = plt.subplot()\n",
    "idx = np.linspace(0,config.one_day*2,1000)\n",
    "y = [SC(i) for i in idx]\n",
    "g.plot(idx,y)\n",
    "g.set_ylim([-0.1,1.1])\n",
    "#g.set_aspect('equal')\n",
    "plt.show()"
   ]
  }
 ],
 "metadata": {
  "kernelspec": {
   "display_name": "Python 3",
   "language": "python",
   "name": "python3"
  },
  "language_info": {
   "codemirror_mode": {
    "name": "ipython",
    "version": 3
   },
   "file_extension": ".py",
   "mimetype": "text/x-python",
   "name": "python",
   "nbconvert_exporter": "python",
   "pygments_lexer": "ipython3",
   "version": "3.8.8"
  }
 },
 "nbformat": 4,
 "nbformat_minor": 4
}
